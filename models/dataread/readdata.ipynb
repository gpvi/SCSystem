{
 "cells": [
  {
   "cell_type": "code",
   "execution_count": 2,
   "metadata": {},
   "outputs": [],
   "source": [
    "import numpy as np\n",
    "import pandas as pd\n",
    "\n"
   ]
  },
  {
   "cell_type": "code",
   "execution_count": null,
   "metadata": {},
   "outputs": [],
   "source": [
    "path = \"sc.xlsx\"\n",
    "stu = pd.read_excel(path,sheet_name=\"stu\")\n",
    "course = pd.read_excel(path,sheet_name=\"course\")\n",
    "teacher = pd.read_excel(path,sheet_name=\"teacher\")\n",
    "# print(stu.columns.values)\n",
    "# print(course.columns.values)\n",
    "# print(len(teacher.columns.values))\n",
    "# print(teacher.dtypes)"
   ]
  },
  {
   "cell_type": "code",
   "execution_count": null,
   "metadata": {},
   "outputs": [],
   "source": [
    "stus = []\n",
    "l = len(stu.columns.values)\n",
    "cname = stu.columns.values\n",
    "for i in range(0,len(stu)):\n",
    "    temp= {}\n",
    "    for j in range(0,l):\n",
    "        if j == 0:\n",
    "            st= str(int(stu.iloc[i][j]))\n",
    "        else:\n",
    "            st = stu.iloc[i][j]\n",
    "        temp.update({cname[j]:st})\n",
    "        # print(type(cname[j]))\n",
    "    stus.append(temp)\n",
    "\n",
    "print(stus)\n",
    "    \n",
    "\n"
   ]
  },
  {
   "cell_type": "code",
   "execution_count": null,
   "metadata": {},
   "outputs": [],
   "source": [
    "teachers = []\n",
    "cname = teacher.columns.values\n",
    "l= len(teacher.columns.values)\n",
    "for i in range(0,len(teacher)):\n",
    "    temp= {}\n",
    "    for j in range(0,l):\n",
    "        if j == 0:\n",
    "            st= str(int(teacher.iloc[i][j]))\n",
    "        else:\n",
    "            st = teacher.iloc[i][j]\n",
    "        temp.update({cname[j]:st})\n",
    "        # print(type(cname[j]))\n",
    "    teachers.append(temp)\n",
    "print(teachers)"
   ]
  },
  {
   "cell_type": "code",
   "execution_count": null,
   "metadata": {},
   "outputs": [],
   "source": [
    "courses = []\n",
    "cname = course.columns.values\n",
    "l= len(course.columns.values)\n",
    "for i in range(0,len(course)):\n",
    "    temp= {}\n",
    "    for j in range(0,l):\n",
    "        if j == 0:\n",
    "            st= str(int(course.iloc[i][j]))\n",
    "        else:\n",
    "            st = course.iloc[i][j]\n",
    "        temp.update({cname[j]:st})\n",
    "        # print(type(cname[j]))\n",
    "    courses.append(temp)\n",
    "print(courses)"
   ]
  },
  {
   "cell_type": "code",
   "execution_count": null,
   "metadata": {},
   "outputs": [],
   "source": []
  }
 ],
 "metadata": {
  "kernelspec": {
   "display_name": "Python 3.8.13 ('python38')",
   "language": "python",
   "name": "python3"
  },
  "language_info": {
   "codemirror_mode": {
    "name": "ipython",
    "version": 3
   },
   "file_extension": ".py",
   "mimetype": "text/x-python",
   "name": "python",
   "nbconvert_exporter": "python",
   "pygments_lexer": "ipython3",
   "version": "3.8.13"
  },
  "orig_nbformat": 4,
  "vscode": {
   "interpreter": {
    "hash": "a78128c3e2aa4582c236d177919c228e21ee0f35d9807cd0f655c963c02bc295"
   }
  }
 },
 "nbformat": 4,
 "nbformat_minor": 2
}
